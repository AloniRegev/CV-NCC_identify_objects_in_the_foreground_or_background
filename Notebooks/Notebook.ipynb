{
  "nbformat": 4,
  "nbformat_minor": 0,
  "metadata": {
    "accelerator": "GPU",
    "colab": {
      "name": "Copy of Ex3_Part_2.ipynb",
      "provenance": [],
      "collapsed_sections": []
    },
    "kernelspec": {
      "display_name": "Python 3",
      "language": "python",
      "name": "python3"
    },
    "language_info": {
      "codemirror_mode": {
        "name": "ipython",
        "version": 3
      },
      "file_extension": ".py",
      "mimetype": "text/x-python",
      "name": "python",
      "nbconvert_exporter": "python",
      "pygments_lexer": "ipython3",
      "version": "3.6.10"
    }
  },
  "cells": [
    {
      "cell_type": "markdown",
      "metadata": {
        "id": "iwBs5HhHe-Gv"
      },
      "source": [
        "Submitters:\n",
        "*   Husam Lucia ID 209146687\n",
        "*   Regev Aloni ID 313562043"
      ]
    },
    {
      "cell_type": "markdown",
      "metadata": {
        "id": "PwreVPXZIzZB"
      },
      "source": [
        "# Computer Vision: Assignment 3 Part 2 - Object Detection [60%]\n",
        " \n",
        "This notebook contains a partial minimal implementation (modelling, training and visualization code) an of a region-CNN object detector.\n",
        " \n",
        "The first steps would be to understand what anchors are. Anchors are nothing but crops of a specific size and position in the image. The job of our object detector is to classify each anchor as containing an object or not. If the anchor contains an object, we want to find out by how much our anchor needs to change in shape and position to best fit the object in it. (By how much the height, width and center x and y cordinates change.)\n",
        " \n",
        "Hence, object detection is a multi task network which does **classification** and **regression**.\n",
        " \n",
        " \n",
        "The final objective of completing this notebook is to generate some visualizations of the network running on images in the validation set. \n"
      ]
    },
    {
      "cell_type": "markdown",
      "metadata": {
        "id": "hymGjo43KmNk"
      },
      "source": [
        "Let's start by loading some important modules"
      ]
    },
    {
      "cell_type": "code",
      "metadata": {
        "colab": {
          "base_uri": "https://localhost:8080/",
          "height": 0
        },
        "id": "_gqANBiQI9hr",
        "outputId": "4c2bab86-cb88-466d-904b-05e62aeb91d8"
      },
      "source": [
        "# load important modules\n",
        "!git clone https://github.com/simonkorman/CV-Ex3-part2.git\n",
        "%cd CV-Ex3-part2"
      ],
      "execution_count": 1,
      "outputs": [
        {
          "output_type": "stream",
          "text": [
            "Cloning into 'CV-Ex3-part2'...\n",
            "remote: Enumerating objects: 55, done.\u001b[K\n",
            "remote: Counting objects: 100% (55/55), done.\u001b[K\n",
            "remote: Compressing objects: 100% (53/53), done.\u001b[K\n",
            "remote: Total 55 (delta 18), reused 0 (delta 0), pack-reused 0\u001b[K\n",
            "Unpacking objects: 100% (55/55), done.\n",
            "/content/CV-Ex3-part2\n"
          ],
          "name": "stdout"
        }
      ]
    },
    {
      "cell_type": "markdown",
      "metadata": {
        "id": "VT-JnR9WIzZG"
      },
      "source": [
        "## Dataset\n",
        "\n",
        "Let's introduce our dataset. We have a Pytorch dataloader which outputs images and the ground truth data for the bounding boxes. We visualize the dataset below. You don't need to write any code here. However, you can try to get a good understanding of the structure of the dataset. "
      ]
    },
    {
      "cell_type": "code",
      "metadata": {
        "id": "ak37idDZIzZC"
      },
      "source": [
        "from extras.shapes_loader import get_shapes_loader\n",
        "from extras.util import *\n",
        "import torch\n",
        "import matplotlib.pyplot as plt\n",
        "import matplotlib\n",
        "import torch.nn as nn\n",
        "from extras.encoder import ResnetEncoder\n",
        "import torch.nn.functional as F\n",
        "from extras.anchors import get_offsets\n",
        "from extras.boxes import box_iou, nms\n",
        "import numpy as np\n",
        "\n",
        "use_cuda = torch.cuda.is_available()\n",
        "\n",
        "batch_sz = 256 # batch size for training and testing\n",
        "\n",
        "# data loading: You may (*and should*) change the dataset sizes (make sure that they are multiples of the batch size)\n",
        "trainloader, valloader, _ = get_shapes_loader(batch_sz=batch_sz, train_samples=7680, val_samples=2560)\n",
        "\n",
        "device = 'cuda' \n",
        "\n",
        "matplotlib.rcParams['figure.figsize'] = (10.0, 10.0)"
      ],
      "execution_count": 2,
      "outputs": []
    },
    {
      "cell_type": "markdown",
      "metadata": {
        "id": "LI4hxEchK97_"
      },
      "source": [
        "A visual taste of the dataset, given as sample (image) / target (labels) pairs, which consists of triangle/square/circle colored objects on a uniform background."
      ]
    },
    {
      "cell_type": "code",
      "metadata": {
        "colab": {
          "base_uri": "https://localhost:8080/",
          "height": 594
        },
        "id": "IdSVb1pYIzZJ",
        "outputId": "5df84470-2491-467c-b31a-c447a0f77ea3"
      },
      "source": [
        "sample, target = iter(trainloader).next()\n",
        "sample = torch.stack(sample,dim=0)\n",
        "visDet(sample, target)"
      ],
      "execution_count": 3,
      "outputs": [
        {
          "output_type": "display_data",
          "data": {
            "image/png": "[encoded data removed]",
            "text/plain": [
              "<Figure size 720x720 with 4 Axes>"
            ]
          },
          "metadata": {
            "tags": [],
            "needs_background": "light"
          }
        }
      ]
    },
    {
      "cell_type": "markdown",
      "metadata": {
        "id": "utFxVXjqIzZQ"
      },
      "source": [
        "### Target Data for the Dataset\n",
        "\n",
        "The targets of the dataset have 2 types of information for each image. \n",
        "\n",
        "1. The **bounding boxes** which is a tensor of size (N x 4).\n",
        "here is N is the number of objects in the image and 4 correspond to:\n",
        "\n",
        "    a. top left x coordinate\n",
        "    b. top left y coordinate\n",
        "    c. bottom right x coordinate\n",
        "    d. bottom right y coordinate\n",
        "\n",
        "2. The **classification labels** of size Nx1. Here the 1 corresponds to the label of the object (whether it is a triangle, square or circle). We will basically ignore the label in this excercise (i.e. treat all objects as one class).\n"
      ]
    },
    {
      "cell_type": "code",
      "metadata": {
        "colab": {
          "base_uri": "https://localhost:8080/",
          "height": 0
        },
        "id": "cHGsaaHMIzZQ",
        "outputId": "f93c03ce-2ce9-49d6-dae3-651387955c09"
      },
      "source": [
        "print(target[0])"
      ],
      "execution_count": 4,
      "outputs": [
        {
          "output_type": "stream",
          "text": [
            "{'bounding_box': tensor([[ 71,  60, 127, 116],\n",
            "        [ 28,  33,  78,  83]]), 'labels': tensor([3, 3], dtype=torch.int32)}\n"
          ],
          "name": "stdout"
        }
      ]
    },
    {
      "cell_type": "markdown",
      "metadata": {
        "id": "Oq87yw2bIzZT"
      },
      "source": [
        "### Creating a fixed collection of \"chunks\" or \"anchors\" for our image. \n",
        "\n",
        "Our image is 128 x 128 in size and we will use a stride of 16, with 3 anchor sizes at each position, of dimensions 40x40, 50x50 and 60x60. We should get 192 anchors (since 128/16 = 8 and 8x8x3 = 192).\n",
        "\n",
        "Hence, our neural network should output a feature map of 8 x 8 in spatial dimensions. Each grid point in this feature map is an anchor position, with 3 candidate anchors.\n",
        "\n",
        "Your first ***task*** [**10%**] is to write the code that creates these 192 anchors with respect to an image size of 128x128. Each anchor is represented by the top left and bottom right x,y coordinates of the anchors (in this order) with respect to the pixel coordinates of a 128x128 image. \n",
        "\n",
        "Hence, the output of the below function should be a numpy array of size [192,4]. Make sure to think about the correct order of collecting these 192 anchors. They should be in coordination with the output of the network that we will see next.\n"
      ]
    },
    {
      "cell_type": "code",
      "metadata": {
        "id": "H1UPnjil6PGc"
      },
      "source": [
        "def get_anchor_boxes():\n",
        "    \"\"\"\n",
        "    Generate 192 boxes where each box is represented by :\n",
        "    [top_left_x, top_left_y, bottom_right_x, bottom_right_y]\n",
        "\n",
        "    Each anchor position should generate 3 boxes according to the scales and ratios given.\n",
        "\n",
        "    Return this result as a numpy array of size [192,4]\n",
        "    \"\"\"\n",
        "    stride = 16 # The stride of the final feature map is 16 (the model compresses the image from 128 x 128 to 8 x 8)\n",
        "    map_sz = 128 # this is the length of height/width of the image\n",
        "\n",
        "    # *** FILL YOUR CODE HERE ***\n",
        "    i=stride/2\n",
        "    anchor_boxes=np.empty(shape=(0,4)) \n",
        "    while i <= map_sz:\n",
        "      j=stride/2\n",
        "      while j <= map_sz:\n",
        "        k=40\n",
        "        while k<=60:\n",
        "          buffer=k/2\n",
        "          \n",
        "          # top_left_x=max(j-buffer,0)\n",
        "          # bottom_right_x=min(j+buffer, map_sz)\n",
        "          # top_left_y=max(i-buffer,0)\n",
        "          # bottom_right_y=min(i+buffer, map_sz);\n",
        "         \n",
        "          top_left_x=j-buffer\n",
        "          bottom_right_x=j+buffer\n",
        "          top_left_y=i-buffer\n",
        "          bottom_right_y=i+buffer;\n",
        "\n",
        "          anchor_boxes= np.append(anchor_boxes ,[[top_left_x, top_left_y, bottom_right_x, bottom_right_y]], axis=0)\n",
        "          # print([top_left_x, top_left_y, bottom_right_x, bottom_right_y])\n",
        "          # print(j,i)\n",
        "          k+=10\n",
        "        j+=stride\n",
        "      i+=stride\n",
        "    # print(anchor_boxes)\n",
        "    return anchor_boxes\n",
        "\n",
        "# retrieve the anchors\n",
        "anchor_boxes = get_anchor_boxes()\n",
        "# print(anchor_boxes.shape)\n",
        "assert anchor_boxes.shape == (192,4)"
      ],
      "execution_count": 5,
      "outputs": []
    },
    {
      "cell_type": "markdown",
      "metadata": {
        "id": "lGn6sXRxUTVI"
      },
      "source": [
        "### Model\n",
        "\n",
        "We will use the 3rd output feature from the resnet18 encoder, which represents a stride of 16. Given a 128x128 image, it will result in a map of size 8 x 8, with depth of 256. On this feature map we applay an additional standard 3x3 convolutional layer (+relu activation) that will leave us again with a 8x8x256 intermediate feature embedding. \n",
        "\n",
        "Recall that we wish to make predictions per anchor. We associate each of the 8x8 spatial dimensions with those of the respecive anchors. Therefore, for each spatial location we will add two output heads, which will predict the object existence and required bounding-box location update. These are implemented by operating on the entire volume at once, using 2 separate simple 1x1 convolutions with the respective output dimensions. \n",
        "\n",
        "Our model is defined by the class 'ShapesModel', where the 'forward' function defines the forward pass of the network."
      ]
    },
    {
      "cell_type": "markdown",
      "metadata": {
        "id": "VaQN3hKFXJaq"
      },
      "source": [
        "### Illustration of the suggested architecture\n",
        "![diagram_70.png](data:image/png;base64,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)"
      ]
    },
    {
      "cell_type": "code",
      "metadata": {
        "id": "yt--F8HcIzZU"
      },
      "source": [
        "class ShapesModel(nn.Module):\n",
        "\n",
        "    def __init__(self):\n",
        "        super(ShapesModel, self).__init__()\n",
        "\n",
        "        # for each grid in the feature map we have 3 anchors of sizes: 40x40, 50x50, 60x60\n",
        "        num_anchors = 3\n",
        "\n",
        "        # regular resnet 18 encoder\n",
        "        self.encoder = ResnetEncoder(num_layers=18, pretrained=False)\n",
        "\n",
        "        # a small conv net\n",
        "        self.conv = nn.Conv2d(\n",
        "            256, 256, kernel_size=3, stride=1, padding=1\n",
        "        )\n",
        "\n",
        "        # This is a head that predicts whether a chunk/anchor contains an object or not.\n",
        "        self.cls_logits = nn.Conv2d(256, 3*1, kernel_size=1)\n",
        "\n",
        "        # This is a head that regresses over the 4 bounding box offsets for each anchor\n",
        "        self.bbox_pred = nn.Conv2d(256, 3*4, kernel_size=1)\n",
        "    \n",
        "    def permute_and_flatten(self, layer, N, A, C, H, W):\n",
        "        # helper function that rearranges the input for the loss function\n",
        "        layer = layer.view(N, -1, C, H, W)\n",
        "        layer = layer.permute(0, 3, 4, 1, 2)\n",
        "        layer = layer.reshape(N, -1, C)\n",
        "        return layer\n",
        "    \n",
        "    def reshape_regressions(self, cls_pred, box_pred):\n",
        "        # helper function that gets outputs in the right shape for applying the loss\n",
        "        # A = number of anchors (3)\n",
        "        # C is 1\n",
        "        N, AxC, H, W = cls_pred.shape\n",
        "        Ax4 = box_pred.shape[1]\n",
        "        A = Ax4 // 4\n",
        "        C = AxC // A\n",
        "        cls_pred = self.permute_and_flatten(cls_pred, N, A, C, H, W)\n",
        "        \n",
        "        box_pred = self.permute_and_flatten(box_pred, N, A, 4, H, W)\n",
        "        return cls_pred, box_pred\n",
        "\n",
        "    def forward(self, x):\n",
        "        bt_sz = x.size(0)\n",
        "\n",
        "        # we take the 3rd output feature map of size 8 x 8 from\n",
        "        # the resnet18 encoder this means that the stride\n",
        "        # is 16 as our input image is 128x128 in size.\n",
        "        x = self.encoder(x)[3]\n",
        "\n",
        "        # next pass it through a convolutional layer\n",
        "        x = F.relu(self.conv(x))\n",
        "\n",
        "        # finally make the predictions\n",
        "        cls_pred = torch.sigmoid(self.cls_logits(x))\n",
        "        box_pred = self.bbox_pred(x)\n",
        "  \n",
        "        # expected output sizes of head (dimension 0 is for the batch_size)\n",
        "        assert cls_pred.shape[1:] == (3, 8, 8)\n",
        "        assert box_pred.shape[1:] == (12, 8, 8)\n",
        "\n",
        "        # this is a rearragenemt of the output tensors dimensions\n",
        "        cls_pred, box_pred = self.reshape_regressions(cls_pred, box_pred)\n",
        "\n",
        "         # expected output sizes of head (dimension 0 is for the batch_size)\n",
        "        assert cls_pred.shape[1:] == (192, 1)\n",
        "        assert box_pred.shape[1:] == (192, 4)\n",
        "        \n",
        "        return cls_pred.squeeze(2), box_pred\n"
      ],
      "execution_count": 6,
      "outputs": []
    },
    {
      "cell_type": "markdown",
      "metadata": {
        "id": "vUyTaoAi_iyl"
      },
      "source": [
        "Basic testing of the model on a random input"
      ]
    },
    {
      "cell_type": "code",
      "metadata": {
        "colab": {
          "base_uri": "https://localhost:8080/",
          "height": 0
        },
        "id": "v-tnPWV9IzZX",
        "outputId": "5ebc05c5-3b98-4f39-d689-e13a0dd15c84"
      },
      "source": [
        "m = ShapesModel()\n",
        "a = torch.randn(1,3,128,128) # dummy input\n",
        "cls_pred, box_pred = m(a)\n",
        "print('The outputs of the net are of size: ', cls_pred.size(), box_pred.size())\n",
        "\n",
        "assert cls_pred.size() == (1,192) and box_pred.size() == (1,192,4)"
      ],
      "execution_count": 7,
      "outputs": [
        {
          "output_type": "stream",
          "text": [
            "The outputs of the net are of size:  torch.Size([1, 192]) torch.Size([1, 192, 4])\n"
          ],
          "name": "stdout"
        },
        {
          "output_type": "stream",
          "text": [
            "/usr/local/lib/python3.7/dist-packages/torch/nn/functional.py:718: UserWarning: Named tensors and all their associated APIs are an experimental feature and subject to change. Please do not use them for anything important until they are released as stable. (Triggered internally at  /pytorch/c10/core/TensorImpl.h:1156.)\n",
            "  return torch.max_pool2d(input, kernel_size, stride, padding, dilation, ceil_mode)\n"
          ],
          "name": "stderr"
        }
      ]
    },
    {
      "cell_type": "markdown",
      "metadata": {
        "id": "zNbDq_8xIzZb"
      },
      "source": [
        "## **Supervision:** 1. organizing the ground-truth information\n",
        "\n",
        "***get_GT_anchors*** is a function that converts the ground-truth information to the world of our anchors. Specifically, given the collection of true object bounding-boxes, it will assign to each of our anchors the following: \n",
        "\n",
        "1. Whether it has an object in it or not. This is done by measuring IOU (intersection-over-union) of the chunk with each of the true bounding boxes. If the (maximal found) IOU is > 0.7, we say that the chunk contains the object. If it is less than 0.3, we say the chunk only contains background. If the value is somewhere in between, we say it is a bad chunk (and will not use it's contribution to the loss function).\n",
        "\n",
        "2. How much should the anchor change in height, width and how much should it translate to best fit the object. These offsets are 4 values, for the height, width, center x and y coordinate. \n",
        "\n",
        "Your second ***task*** [**10%**] is to calculate those values. Fill out the  '*get_anchor_labels_and_offsets*' helper function below."
      ]
    },
    {
      "cell_type": "code",
      "metadata": {
        "id": "JMRwLlVqIzZc"
      },
      "source": [
        "# You may use this helper function that computes the IoU of two boxes\n",
        "def bb_intersection_over_union(boxA, boxB):\n",
        "\n",
        "    boxA=boxA.cuda()\n",
        "    boxB=torch.from_numpy(boxB).cuda()\n",
        "    \n",
        "    # determine the (x, y)-coordinates of the intersection rectangle\n",
        "    xA = max(boxA[0], boxB[0])\n",
        "    yA = max(boxA[1], boxB[1])\n",
        "    xB = min(boxA[2], boxB[2])\n",
        "    yB = min(boxA[3], boxB[3])\n",
        "\n",
        "    # compute the area of intersection rectangle\n",
        "    interArea = abs(max((xB - xA, 0)) * max((yB - yA), 0))\n",
        "    if interArea == 0:\n",
        "        return 0\n",
        "    # compute the area of both the prediction and ground-truth\n",
        "    # rectangles\n",
        "    boxAArea = abs((boxA[2] - boxA[0]) * (boxA[3] - boxA[1]))\n",
        "    boxBArea = abs((boxB[2] - boxB[0]) * (boxB[3] - boxB[1]))\n",
        "\n",
        "    # compute the intersection over union by taking the intersection\n",
        "    # area and dividing it by the sum of prediction + ground-truth\n",
        "    # areas - the interesection area\n",
        "    iou = interArea / float(boxAArea + boxBArea - interArea)\n",
        "\n",
        "    # return the intersection over union value\n",
        "    return iou\n",
        "\n",
        "# This is the function you should complete      \n",
        "def get_anchor_labels_and_offsets(true_boxes, anchor_boxes, sz=128):\n",
        "    '''    \n",
        "    INPUT:\n",
        "    true_boxes: [Nx4]: actual bounding boxes in the image. Here N is the number of bounding boxes the image has.\n",
        "    anchor_boxes: [192 x 4]: Anchor boxes of an image of size 128 x 128 with stride 16. \n",
        "    sz : 128\n",
        "    OUTPUT: \n",
        "    anchor_classes: [192 x 1] : Class labels for each anchor: 1 is for foreground, 0 is for background and -1 is \n",
        "                            for a bad anchor [where IOU is between 0.3 and 0.7].\n",
        "    anchor_offsets: [192 x 4]: Offsets for anchor to best fit the bounding box object. Assign 0 values for 0 and -1 class anchors.\n",
        "    '''\n",
        "    high_threshold = 0.7\n",
        "    low_threshold = 0.3\n",
        "\n",
        "    n_BBs = true_boxes.shape[0]\n",
        "    n_anchors = anchor_boxes.shape[0]\n",
        "    anchor_classes = torch.zeros(n_anchors)\n",
        "    # anchor_classes = torch.zeros((n_anchors,1))\n",
        "    anchor_offsets = torch.zeros((n_anchors,4))   \n",
        "\n",
        "\n",
        "    # print(\"true_boxes:\", true_boxes)\n",
        "    # *** FILL YOUR CODE HERE ***\n",
        "    for ground_truth in true_boxes:\n",
        "      for i in range(n_anchors):\n",
        "        anchor=anchor_boxes[i]\n",
        "        \n",
        "        threshold=bb_intersection_over_union(ground_truth, anchor);\n",
        "\n",
        "        if threshold>=high_threshold:\n",
        "          anchor_classes[i]= 1 #update the anchor_classes\n",
        "\n",
        "          #update the anchor_offsets vector\n",
        "          #  ex_width = ground_truth[2] - ground_truth[0]\n",
        "          # ex_height = ground_truth[3] - ground_truth[1]\n",
        "          # ex_center_x = ground_truth[0] + 0.5*ex_width\n",
        "          # ex_center_y = ground_truth[1] + 0.5*ex_height\n",
        "\n",
        "          # gt_width = anchor[2] - anchor[0]\n",
        "          # gt_height = anchor[3] - anchor[1]\n",
        "          # gt_center_x = anchor[0] + 0.5*gt_width\n",
        "          # gt_center_y = anchor[1] + 0.5*gt_height\n",
        "\n",
        "          ex_width = anchor[2] - anchor[0]\n",
        "          ex_height = anchor[3] - anchor[1]\n",
        "          ex_center_x = anchor[0] + 0.5*ex_width\n",
        "          ex_center_y = anchor[1] + 0.5*ex_height\n",
        "\n",
        "          gt_width = ground_truth[2] - ground_truth[0]\n",
        "          gt_height = ground_truth[3] - ground_truth[1]\n",
        "          gt_center_x = ground_truth[0] + 0.5*gt_width\n",
        "          gt_center_y = ground_truth[1] + 0.5*gt_height\n",
        "\n",
        "          delta_x = (gt_center_x - ex_center_x) / ex_width\n",
        "          delta_y = (gt_center_y - ex_center_y) / ex_height\n",
        "          delta_scaleX = torch.log(gt_width / ex_width)\n",
        "          delta_scaleY = torch.log(gt_height / ex_height)\n",
        "          \n",
        "          anchor_offsets[i][0] = delta_x\n",
        "          anchor_offsets[i][1] = delta_y\n",
        "          anchor_offsets[i][2] = delta_scaleX\n",
        "          anchor_offsets[i][3] = delta_scaleY\n",
        "\n",
        "        elif threshold<=low_threshold:\n",
        "          anchor_classes[i]= 0\n",
        "\n",
        "        else:\n",
        "          anchor_classes[i]= -1\n",
        "\n",
        "    return anchor_classes, anchor_offsets\n",
        "\n",
        "\n",
        "#  The main function - no need to modify\n",
        "def get_GT_anchors(target, sample, anchor_boxes):\n",
        "    '''\n",
        "    Input\n",
        "    target => Set of bounding boxes for each image.\n",
        "    Sample => Each image\n",
        "    Output:\n",
        "    Bounding box offsets and class labels for each anchor.\n",
        "    '''\n",
        "    batched_preds = []\n",
        "    batched_offsets = []\n",
        "    final_anchor_labels = []\n",
        "    final_anchor_offsets = []\n",
        "    iter = 0\n",
        "    for t, s in zip(target, sample):\n",
        "        bboxes = t['bounding_box'].to(device).float()      \n",
        "    \n",
        "        anchor_labels, anchor_offsets = get_anchor_labels_and_offsets(bboxes, anchor_boxes, sz=128)\n",
        "\n",
        "        final_anchor_labels.append(anchor_labels)\n",
        "        final_anchor_offsets.append(anchor_offsets)\n",
        "\n",
        "    final_anchor_labels = torch.squeeze(torch.stack(final_anchor_labels), dim=0)\n",
        "    final_anchor_offsets = torch.stack(final_anchor_offsets, dim=0)\n",
        "\n",
        "    return final_anchor_labels, final_anchor_offsets    "
      ],
      "execution_count": 8,
      "outputs": []
    },
    {
      "cell_type": "markdown",
      "metadata": {
        "id": "4g_BrLTigbgw"
      },
      "source": [
        "### Test code (for get_GT_anchors) that you might want to use"
      ]
    },
    {
      "cell_type": "code",
      "metadata": {
        "id": "_MaTWpH2IzZg"
      },
      "source": [
        "sample, target = iter(trainloader).next()\n",
        "sample = torch.stack(sample,dim=0)\n",
        "\n",
        "assert len(target) == batch_sz\n",
        "assert sample.shape == (batch_sz,3,128,128)\n",
        "assert anchor_boxes.shape == (192,4)\n",
        "\n",
        "anchor_labels, anchor_offsets = get_GT_anchors(target, sample, anchor_boxes)\n",
        "\n",
        "# examine your result..\n",
        "\n",
        "assert anchor_labels.shape == (batch_sz,192)\n",
        "assert anchor_offsets.shape == (batch_sz,192,4)\n",
        "\n",
        "# perhaps visualize?"
      ],
      "execution_count": 9,
      "outputs": []
    },
    {
      "cell_type": "markdown",
      "metadata": {
        "id": "JlcVJzGlIzZj"
      },
      "source": [
        "# **Supervision:** 2. defining loss functions\n",
        "\n",
        "We need to define loss functions which will compare the ground-truth-extracted data with the predictions of the network. We use a combination of two losses:\n",
        "\n",
        "1. **Classification Loss** - The classification loss should be applied to all positive (containing an object) and negative anchors (does not contain an object). The loss should not be calculated for the anchors whose IOU values are between 0.7 and 0.3. Apply a binary-cross-entropy-loss (e.g. torch.nn.BCELoss) between the objecteness score and the network classification.\n",
        "2. **Bounding-Box Update Loss** - The BB loss should be applied to all positive (containing an object) anchors. The loss should not be calculated for the anchors whose IOU values are below 0.7. Apply a Smooth L1 loss (e.g. torch.nn.SmoothL1Loss) to regress on the bounding box offsets.\n",
        "\n",
        "Note that in this setup the ratio between sampled background and foreground anchors might be biased towards over-sampling background anchors. This could be handled (**this is optional**) by implementing hard online negative sampling, which means to correct this bias.\n",
        "\n",
        "Your third ***task*** [**10%**] is to write the code for the '*class_loss*' and '*bbox_loss*' loss functions. \n"
      ]
    },
    {
      "cell_type": "code",
      "metadata": {
        "id": "Mi13XEtKI6pj"
      },
      "source": [
        "def class_loss(pred_class, anchor_labels, device=\"cuda\"):\n",
        "   \n",
        "    # *** FILL YOUR CODE HERE ***\n",
        "    bceLoss = torch.nn.BCELoss()\n",
        "    ind = anchor_labels>-1 \n",
        "    loss = bceLoss(pred_class[ind], anchor_labels[ind].cuda())\n",
        " \n",
        "    return loss\n",
        " \n",
        "def bbox_loss(out_bbox, anchor_offsets, anchor_labels):\n",
        " \n",
        "   # *** FILL YOUR CODE HERE ***\n",
        "    smoothL1 = nn.SmoothL1Loss()\n",
        "    ind = anchor_labels>0\n",
        "    loss = smoothL1(out_bbox[ind], anchor_offsets[ind].cuda())\n",
        "    \n",
        "    return loss"
      ],
      "execution_count": 10,
      "outputs": []
    },
    {
      "cell_type": "markdown",
      "metadata": {
        "id": "u42yvSLCI6pl"
      },
      "source": [
        "## Training Function. \n",
        "\n",
        "This is the training function. You do not need to change any code here, though you might want to add some debugging signals. "
      ]
    },
    {
      "cell_type": "code",
      "metadata": {
        "id": "trximgTSIzZj"
      },
      "source": [
        "def train(ep, model, trainloader, optimizer):\n",
        "        total_loss = 0\n",
        "        b_loss = 0\n",
        "        c_loss = 0\n",
        "        debug_freq = 10\n",
        "        validation_freq = 20\n",
        "        window_loss = np.zeros(3)\n",
        "\n",
        "        for i, (sample, targets) in enumerate(trainloader):\n",
        "            ims = torch.stack(list(sample), dim=0).to(device)\n",
        "            model.train() # switch to train mode\n",
        "\n",
        "            anchor_labels, anchor_offsets = get_GT_anchors(targets, ims, anchor_boxes)\n",
        "            pred_class, pred_bb = model(ims)               \n",
        "              \n",
        "            loss_bbox = bbox_loss(pred_bb, anchor_offsets, anchor_labels)\n",
        "            # print('loss_bbox:',loss_bbox.item(), 'type:', type(loss_bbox), 'shape:', loss_bbox.shape)    \n",
        "\n",
        "            # print('min:',anchor_labels.min().min(),'max:',anchor_labels.max().max())\n",
        "            loss_cls = class_loss(pred_class, anchor_labels.cuda())\n",
        "            # print('loss_cls:',loss_cls.item(), 'type:', type(loss_cls), 'shape:', loss_cls.shape)                    \n",
        "            \n",
        "            loss = loss_cls + loss_bbox \n",
        "            # print(\"loss_cls: \",loss_cls)\n",
        "            # print(\"loss_bbox: \",loss_bbox)\n",
        "            # print(\"loss: \",loss)\n",
        "            # print('>>>> cls loss shape', loss_cls.shape, 'box loss shape', loss_bbox.shape, )            \n",
        "\n",
        "            # gradient step\n",
        "            if loss.item() != 0:\n",
        "                optimizer.zero_grad()\n",
        "                loss.backward()\n",
        "                optimizer.step()\n",
        "\n",
        "\n",
        "            # validation (once in a while)\n",
        "            if i%validation_freq==(validation_freq-1):\n",
        "                print('>> iteration',i+1,'out of',len(trainloader), ': VALIDATING on', len(valloader), 'batches...')\n",
        "                model.eval() # switch to eval mode\n",
        "\n",
        "                val_losses = np.zeros(len(valloader))\n",
        "                for j, (sample, targets) in enumerate(valloader):\n",
        "                    ims = torch.stack(list(sample), dim=0).to(device)\n",
        "\n",
        "                    anchor_labels, anchor_offsets = get_GT_anchors(targets, ims, anchor_boxes)\n",
        "                    pred_class, pred_bb = model(ims)               \n",
        "                      \n",
        "                    loss_bbox = bbox_loss(pred_bb, anchor_offsets, anchor_labels)\n",
        "                    loss_cls = class_loss(pred_class, anchor_labels.cuda())\n",
        "                    val_losses[j] = loss_cls + loss_bbox \n",
        "              \n",
        "                print('>> iteration',i+1,'out of',len(trainloader), ': VALIDATION loss:', val_losses.mean())\n",
        "\n",
        "            # debugging\n",
        "            total_loss += loss.item()\n",
        "            window_loss = window_loss + np.array([loss_bbox.item(), loss_cls.item(), loss.item()])/debug_freq\n",
        "\n",
        "            if i%debug_freq==(debug_freq-1):\n",
        "              print('>> iteration',i+1,'out of',len(trainloader), ': loss ', window_loss[2], '(closs', window_loss[0], 'bloss', window_loss[1], ')')\n",
        "              window_loss = np.zeros(3)\n",
        "            \n",
        "        avg_loss = float(total_loss / len(trainloader))\n",
        "        print('Trained Epoch: {} | Avg Train Loss over epoch: {}'.format(ep, avg_loss))"
      ],
      "execution_count": 11,
      "outputs": []
    },
    {
      "cell_type": "markdown",
      "metadata": {
        "id": "_ilM_jgUnj9H"
      },
      "source": [
        "# **Training** - model optimization and storing\n",
        "This cell contains the entire training (optimization) of your model. At the end, the resulting model is saved as a '.pt', which you are required to submit along with this main 'ipynb' file.\n",
        "\n",
        "## **IMPORTANT NOTICE**:  When we run your submission we will run all of the notebook cells **except** this cell (further down there is a cell that loads the saved model)"
      ]
    },
    {
      "cell_type": "code",
      "metadata": {
        "id": "CqWV12i8bzT_",
        "colab": {
          "base_uri": "https://localhost:8080/",
          "height": 0
        },
        "outputId": "5754dc05-9625-4816-8e38-f73de10c535b"
      },
      "source": [
        "from google.colab import drive\n",
        "drive.mount('/content/drive')"
      ],
      "execution_count": 12,
      "outputs": [
        {
          "output_type": "stream",
          "text": [
            "Mounted at /content/drive\n"
          ],
          "name": "stdout"
        }
      ]
    },
    {
      "cell_type": "code",
      "metadata": {
        "id": "z8f5IswpIzZl",
        "colab": {
          "base_uri": "https://localhost:8080/",
          "height": 0
        },
        "outputId": "7deaa485-0da1-40c3-ba94-dc6411cd1d43"
      },
      "source": [
        "n_epochs = 8\n",
        "model = ShapesModel().to(device)\n",
        "optimizer = torch.optim.SGD(model.parameters(),lr=0.15, momentum=0.9, weight_decay=1e-4)    \n",
        "optimizer = torch.optim.Adam(model.parameters(), lr=0.0015)  \n",
        "\n",
        "# optimize\n",
        "for ep in range(n_epochs):\n",
        "    print('==================================== epoch', ep, '=====================================')\n",
        "    train(ep, model, trainloader, optimizer)\n",
        "\n",
        "\n",
        "# Specify a path\n",
        "PATH = \"entire_model.pt\"\n",
        "\n",
        "# Save\n",
        "torch.save(model, PATH)"
      ],
      "execution_count": 13,
      "outputs": [
        {
          "output_type": "stream",
          "text": [
            "==================================== epoch 0 =====================================\n",
            ">> iteration 10 out of 30 : loss  0.34020366072654723 (closs 0.23268091902136803 bloss 0.10752273574471476 )\n",
            ">> iteration 20 out of 30 : VALIDATING on 10 batches...\n",
            ">> iteration 20 out of 30 : VALIDATION loss: 0.11774571985006332\n",
            ">> iteration 20 out of 30 : loss  0.06357311159372331 (closs 0.028304348886013027 bloss 0.04216806329786777 )\n",
            ">> iteration 30 out of 30 : loss  0.04633873887360097 (closs 0.009388815192505718 bloss 0.036949923262000084 )\n",
            "Trained Epoch: 0 | Avg Train Loss over epoch: 0.1500385037312905\n",
            "==================================== epoch 1 =====================================\n",
            ">> iteration 10 out of 30 : loss  0.03896105363965034 (closs 0.00498513481579721 bloss 0.03397591859102249 )\n",
            ">> iteration 20 out of 30 : VALIDATING on 10 batches...\n",
            ">> iteration 20 out of 30 : VALIDATION loss: 0.03489491567015648\n",
            ">> iteration 20 out of 30 : loss  0.03650408685207367 (closs 0.0036085702478885653 bloss 0.03307793848216533 )\n",
            ">> iteration 30 out of 30 : loss  0.03405403308570385 (closs 0.002969609084539115 bloss 0.03108442351222038 )\n",
            "Trained Epoch: 1 | Avg Train Loss over epoch: 0.03650639119247596\n",
            "==================================== epoch 2 =====================================\n",
            ">> iteration 10 out of 30 : loss  0.03164675738662481 (closs 0.002623948734253645 bloss 0.029022808559238913 )\n",
            ">> iteration 20 out of 30 : VALIDATING on 10 batches...\n",
            ">> iteration 20 out of 30 : VALIDATION loss: 0.03028033971786499\n",
            ">> iteration 20 out of 30 : loss  0.028861501067876813 (closs 0.0024706298252567646 bloss 0.026586079224944114 )\n",
            ">> iteration 30 out of 30 : loss  0.02667803466320038 (closs 0.0022677484201267363 bloss 0.02441028617322445 )\n",
            "Trained Epoch: 2 | Avg Train Loss over epoch: 0.02906209770590067\n",
            "==================================== epoch 3 =====================================\n",
            ">> iteration 10 out of 30 : loss  0.023995018936693667 (closs 0.0020883825607597825 bloss 0.021906636655330658 )\n",
            ">> iteration 20 out of 30 : VALIDATING on 10 batches...\n",
            ">> iteration 20 out of 30 : VALIDATION loss: 0.01988663710653782\n",
            ">> iteration 20 out of 30 : loss  0.02100083120167255 (closs 0.0019517181557603181 bloss 0.019082557782530787 )\n",
            ">> iteration 30 out of 30 : loss  0.01945589333772659 (closs 0.0019771363819018005 bloss 0.017478756606578823 )\n",
            "Trained Epoch: 3 | Avg Train Loss over epoch: 0.02148391449203094\n",
            "==================================== epoch 4 =====================================\n",
            ">> iteration 10 out of 30 : loss  0.01652622055262327 (closs 0.0016549633000977335 bloss 0.014871257171034812 )\n",
            ">> iteration 20 out of 30 : VALIDATING on 10 batches...\n",
            ">> iteration 20 out of 30 : VALIDATION loss: 0.017768688127398492\n",
            ">> iteration 20 out of 30 : loss  0.015561821218580007 (closs 0.00164666905766353 bloss 0.014284764043986797 )\n",
            ">> iteration 30 out of 30 : loss  0.014609485212713479 (closs 0.0016140515217557547 bloss 0.01299543371424079 )\n",
            "Trained Epoch: 4 | Avg Train Loss over epoch: 0.015565842327972253\n",
            "==================================== epoch 5 =====================================\n",
            ">> iteration 10 out of 30 : loss  0.01338597508147359 (closs 0.0013190388795919718 bloss 0.01206693621352315 )\n",
            ">> iteration 20 out of 30 : VALIDATING on 10 batches...\n",
            ">> iteration 20 out of 30 : VALIDATION loss: 0.015450706332921981\n",
            ">> iteration 20 out of 30 : loss  0.012856210116297007 (closs 0.0013008967041969299 bloss 0.011682495288550854 )\n",
            ">> iteration 30 out of 30 : loss  0.012649653945118189 (closs 0.0011631511268205938 bloss 0.011486502736806868 )\n",
            "Trained Epoch: 5 | Avg Train Loss over epoch: 0.012963946380962928\n",
            "==================================== epoch 6 =====================================\n",
            ">> iteration 10 out of 30 : loss  0.011530720628798008 (closs 0.0010074754827655852 bloss 0.010523245017975568 )\n",
            ">> iteration 20 out of 30 : VALIDATING on 10 batches...\n",
            ">> iteration 20 out of 30 : VALIDATION loss: 0.012107968237251044\n",
            ">> iteration 20 out of 30 : loss  0.011265179608017206 (closs 0.0009943639393895864 bloss 0.010419578477740289 )\n",
            ">> iteration 30 out of 30 : loss  0.011287223361432551 (closs 0.0008981987775769086 bloss 0.010389024764299393 )\n",
            "Trained Epoch: 6 | Avg Train Loss over epoch: 0.011361041199415922\n",
            "==================================== epoch 7 =====================================\n",
            ">> iteration 10 out of 30 : loss  0.010263405740261076 (closs 0.0007817313889972864 bloss 0.009481674525886774 )\n",
            ">> iteration 20 out of 30 : VALIDATING on 10 batches...\n",
            ">> iteration 20 out of 30 : VALIDATION loss: 0.011560860369354487\n",
            ">> iteration 20 out of 30 : loss  0.009966712165623903 (closs 0.0008256337489001452 bloss 0.009234456252306698 )\n",
            ">> iteration 30 out of 30 : loss  0.010151250753551723 (closs 0.0007834229618310928 bloss 0.009367827884852886 )\n",
            "Trained Epoch: 7 | Avg Train Loss over epoch: 0.010127122886478901\n"
          ],
          "name": "stdout"
        }
      ]
    },
    {
      "cell_type": "markdown",
      "metadata": {
        "id": "eAZPrnKcl6oU"
      },
      "source": [
        "# Model Predictions - (including post-processing)\n",
        "\n",
        "At this point, you may apply your model on input images and get output results (in the form of a score and a shift BB for each of the anchors). This result would require some post-processing, in order to come up with a presentable and measurable result.\n",
        "\n",
        "The '*predict*' function is designed to output max_BBs = 5 leading bounding boxes. In order to do so, it relies on the anchor scores of your output and applies non-maximal-suppression (NMS) as a main way to clear up the output. \n",
        "\n",
        "NMS is required since many of the anchors near an actual object will fire, resulting in a lot of boxes. NMS handles these multiple predictions by 'choosing' a single box for a predicted object instead of multiple ones. This is best signified through another image:\n",
        "\n",
        "![NMS](https://miro.medium.com/max/1000/0*WI5_K3bAbYaRyzE-.png)\n"
      ]
    },
    {
      "cell_type": "code",
      "metadata": {
        "id": "jeaQTo1yYSVw"
      },
      "source": [
        "# apply model and post-processing\n",
        "def predict(model, sample, max_BBs=5):\n",
        "\n",
        "    # Apply model:\n",
        "    ims = torch.stack(list(sample), dim=0).to(device)\n",
        "    pred_class, pred_bb = model(ims)    \n",
        "\n",
        "    # Post processing:\n",
        "    iou_threshold = 0.5 # you may manipulate this..\n",
        "\n",
        "    # target = ({},{},{},{})\n",
        "    target = [{} for i in range (batch_sz)]\n",
        "\n",
        "    \n",
        "    boxes = torch.zeros([192,4]).cuda()\n",
        "    for ind in range(batch_sz):\n",
        "        for t in range(192):\n",
        "            boxes[t] =  torch.tensor(anchor_boxes[t]).cuda() + pred_bb[ind,t]\n",
        "        scores = pred_class[ind].squeeze()\n",
        "\n",
        "        nms_indices = nms(boxes, scores, iou_threshold) # NMS\n",
        "        if len(nms_indices) > max_BBs:\n",
        "            nms_indices = nms_indices[:max_BBs]\n",
        "\n",
        "        target[ind]['bounding_box'] = boxes[nms_indices]\n",
        "\n",
        "    return target\n"
      ],
      "execution_count": 19,
      "outputs": []
    },
    {
      "cell_type": "code",
      "metadata": {
        "id": "84TeFQocgUDx",
        "colab": {
          "base_uri": "https://localhost:8080/",
          "height": 1000
        },
        "outputId": "2632ad0c-a324-4cc1-8cc8-a2aee2707f32"
      },
      "source": [
        "# Testing the 'predict' function on a train or validation batch\n",
        "\n",
        "# taking a batch (you may change trainloader to valloader)\n",
        "sample, target = iter(trainloader).next()\n",
        "# sample, target = iter(valloader).next()\n",
        "sample = torch.stack(sample,dim=0)\n",
        "\n",
        "max_BBs = 5 # do not modify this\n",
        "\n",
        "# predict\n",
        "result = predict(model, sample, max_BBs=max_BBs)\n",
        "\n",
        "# batch accuracies function - Do not modify!\n",
        "def get_batch_accuracies(result, target, max_BBs=5):\n",
        "    accuracies = np.zeros(batch_sz)\n",
        "    for i in range(batch_sz):\n",
        "        res_BBs = result[i]['bounding_box'].cpu()\n",
        "        if res_BBs.shape[0] > max_BBs:\n",
        "            res_BBs = res_BBs[:max_BBs]\n",
        "        res = box_iou(res_BBs,target[i]['bounding_box'])\n",
        "        best_preds = res.max(0).values\n",
        "        accuracies[i] = ((best_preds>0.5).count_nonzero()/len(best_preds))\n",
        "    return accuracies\n",
        "\n",
        "# check accuracy:\n",
        "accuracies = get_batch_accuracies(result,target)\n",
        "print('accuracies:', accuracies)\n",
        "print('mean accuracy:', accuracies.mean())\n",
        "\n",
        "# visualize:\n",
        "visDet(sample, result)\n"
      ],
      "execution_count": 20,
      "outputs": [
        {
          "output_type": "stream",
          "text": [
            "accuracies: [1.         1.         1.         1.         0.66666669 1.\n",
            " 1.         1.         1.         1.         1.         1.\n",
            " 1.         1.         1.         0.75       1.         1.\n",
            " 1.         1.         1.         0.5        1.         0.66666669\n",
            " 1.         1.         1.         1.         1.         1.\n",
            " 1.         1.         1.         0.66666669 1.         1.\n",
            " 0.66666669 0.66666669 1.         1.         1.         1.\n",
            " 1.         1.         1.         1.         1.         1.\n",
            " 1.         0.5        1.         1.         1.         0.5\n",
            " 1.         1.         0.66666669 1.         1.         1.\n",
            " 1.         1.         1.         0.75       0.33333334 0.75\n",
            " 1.         1.         1.         1.         1.         1.\n",
            " 1.         1.         1.         1.         0.75       1.\n",
            " 0.66666669 1.         1.         1.         0.66666669 0.5\n",
            " 0.66666669 1.         1.         1.         1.         1.\n",
            " 1.         1.         1.         1.         1.         0.66666669\n",
            " 1.         0.75       1.         0.66666669 1.         1.\n",
            " 1.         1.         1.         0.66666669 1.         0.5\n",
            " 1.         1.         0.66666669 1.         1.         1.\n",
            " 1.         1.         1.         1.         1.         0.66666669\n",
            " 1.         1.         1.         1.         1.         1.\n",
            " 1.         0.5        0.75       1.         1.         0.66666669\n",
            " 0.5        1.         1.         1.         0.66666669 0.5\n",
            " 1.         1.         1.         1.         1.         1.\n",
            " 0.5        1.         1.         1.         1.         1.\n",
            " 1.         1.         1.         1.         0.5        1.\n",
            " 0.66666669 0.66666669 1.         0.75       1.         1.\n",
            " 0.66666669 1.         1.         1.         1.         1.\n",
            " 1.         1.         1.         1.         1.         1.\n",
            " 1.         1.         0.66666669 1.         1.         1.\n",
            " 1.         1.         1.         1.         1.         0.66666669\n",
            " 1.         1.         0.66666669 1.         0.66666669 1.\n",
            " 1.         0.66666669 1.         1.         0.75       1.\n",
            " 1.         0.5        1.         1.         1.         1.\n",
            " 1.         1.         1.         1.         1.         0.66666669\n",
            " 1.         1.         1.         1.         1.         0.66666669\n",
            " 0.66666669 1.         1.         1.         1.         1.\n",
            " 1.         0.5        1.         0.66666669 1.         1.\n",
            " 1.         1.         0.66666669 0.66666669 1.         1.\n",
            " 1.         1.         1.         0.66666669 1.         1.\n",
            " 0.5        1.         1.         0.66666669 0.66666669 1.\n",
            " 0.66666669 1.         1.         0.75       1.         0.66666669\n",
            " 1.         0.5        0.66666669 1.        ]\n",
            "mean accuracy: 0.9143880236661062\n"
          ],
          "name": "stdout"
        },
        {
          "output_type": "display_data",
          "data": {
            "image/png": "[encoded data removed]",
            "text/plain": [
              "<Figure size 720x720 with 4 Axes>"
            ]
          },
          "metadata": {
            "tags": [],
            "needs_background": "light"
          }
        }
      ]
    },
    {
      "cell_type": "markdown",
      "metadata": {
        "id": "nl-EPG2B8YAT"
      },
      "source": [
        "# Load model and evaluate on the test set\n",
        "\n",
        "Your fourth and last ***task*** [**30%**] is to tune your network in order to get better accuracy. You may play with the data (e.g. amounts of), model, it's training (e.g. hyper parameters), post-processing, etc'.\n",
        "#Hyper Parameters = Number of Hidden Units, Learning Rate, number of epochs\n",
        "# Post processing...\n",
        "Please describe here shortly what you did in order to get your best results:\n",
        "\n",
        "*   Increase the size of the batch_sz to 256\n",
        "*   Increase the size of the train_samples to 7680\n",
        "*   Increase the size of the val_samples to 2560\n",
        "*   Increase the number of epochs to 8\n",
        "*   Increase the number of tests of the validation_freq to appear every 20 inputs\n",
        "*   Increasing the learning rate of the SGD to 0.15 and of the Adam to 0.015\n",
        "*   Increase the iou_threshold to 0.5\n",
        "\n",
        "\n",
        "\n",
        "\n",
        "\n",
        "\n"
      ]
    },
    {
      "cell_type": "code",
      "metadata": {
        "id": "anrmmH688a9A"
      },
      "source": [
        "# Load\n",
        "if False:\n",
        "    model = torch.load(PATH)\n",
        "    model.eval()\n"
      ],
      "execution_count": 16,
      "outputs": []
    },
    {
      "cell_type": "markdown",
      "metadata": {
        "id": "nI4qJhPqzd7l"
      },
      "source": [
        "### accuracy functions - do not modify"
      ]
    },
    {
      "cell_type": "code",
      "metadata": {
        "id": "GTMb4cQH4z5A"
      },
      "source": [
        "# batch accuracies function - Do not modify!\n",
        "def get_batch_accuracies(result, target, max_BBs=5):\n",
        "    accuracies = np.zeros(batch_sz)\n",
        "    for i in range(batch_sz):\n",
        "        res_BBs = result[i]['bounding_box'].cpu()\n",
        "        if res_BBs.shape[0] > max_BBs:\n",
        "            res_BBs = res_BBs[:max_BBs]\n",
        "        res = box_iou(res_BBs,target[i]['bounding_box'])\n",
        "        best_preds = res.max(0).values\n",
        "        accuracies[i] = ((best_preds>0.5).count_nonzero()/len(best_preds))\n",
        "    return accuracies\n",
        "\n",
        "# accuracies function - Do not modify!\n",
        "def evaluate_accuracy(loader):\n",
        "    accuracy = 0\n",
        "    for j, (sample, target) in enumerate(loader):\n",
        "          sample = torch.stack(list(sample), dim=0).to(device)\n",
        "          result = predict(model, sample)\n",
        "          batch_accuracies = get_batch_accuracies(result,target)\n",
        "          accuracy += batch_accuracies.mean()\n",
        "    result = accuracy/(j+1)\n",
        "    # print('mean accuracy:', result)\n",
        "    return result"
      ],
      "execution_count": 17,
      "outputs": []
    },
    {
      "cell_type": "markdown",
      "metadata": {
        "id": "US9iRPJ3O-3m"
      },
      "source": [
        "## accuracy evaluations (test set is the important one..)"
      ]
    },
    {
      "cell_type": "code",
      "metadata": {
        "id": "9jXF2QRpIbr1",
        "colab": {
          "base_uri": "https://localhost:8080/",
          "height": 0
        },
        "outputId": "0b96acd8-8a4d-4c00-b1c6-86bfb8da7ad5"
      },
      "source": [
        "_, _, testloader = get_shapes_loader(batch_sz=batch_sz, test_samples=3840)\n",
        "\n",
        "train_acc = evaluate_accuracy(trainloader)\n",
        "val_acc = evaluate_accuracy(valloader)\n",
        "test_acc = evaluate_accuracy(testloader)\n",
        "print('train acc:',train_acc)\n",
        "print('val acc:',val_acc)\n",
        "print('test acc:',test_acc)\n",
        "\n"
      ],
      "execution_count": 18,
      "outputs": [
        {
          "output_type": "stream",
          "text": [
            "train acc: 0.923459203603367\n",
            "val acc: 0.9236002625548281\n",
            "test acc: 0.9237847243901343\n"
          ],
          "name": "stdout"
        }
      ]
    }
  ]
}